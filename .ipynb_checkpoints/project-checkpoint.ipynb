{
 "cells": [
  {
   "cell_type": "markdown",
   "metadata": {},
   "source": [
    "### Load the libraries"
   ]
  },
  {
   "cell_type": "code",
   "execution_count": 1,
   "metadata": {
    "collapsed": true
   },
   "outputs": [],
   "source": [
    "# Import math and CV libs\n",
    "from helper_functions import get_hog_features, bin_spatial, color_hist, slide_window, draw_boxes, convert_image\n",
    "import cv2\n",
    "import numpy as np\n",
    "import matplotlib.pyplot as plt\n",
    "import matplotlib.image as mpimg\n",
    "import os\n",
    "import random\n",
    "from sklearn.preprocessing import StandardScaler\n",
    "from sklearn.model_selection import train_test_split\n",
    "import time\n",
    "from sklearn.svm import LinearSVC\n",
    "%matplotlib inline"
   ]
  },
  {
   "cell_type": "markdown",
   "metadata": {},
   "source": [
    "### Show images"
   ]
  },
  {
   "cell_type": "code",
   "execution_count": 2,
   "metadata": {
    "collapsed": true
   },
   "outputs": [],
   "source": [
    "def show_images(image1, title1, image2, title2):\n",
    "    f, (ax1, ax2) = plt.subplots(1, 2, figsize=(24, 9))\n",
    "    f.tight_layout()\n",
    "    ax1.imshow(image1)\n",
    "    ax1.set_title(title1, fontsize=50)\n",
    "    ax2.imshow(image2)\n",
    "    ax2.set_title(title2, fontsize=50)\n",
    "    plt.subplots_adjust(left=0., right=1, top=0.9, bottom=0.)"
   ]
  },
  {
   "cell_type": "code",
   "execution_count": 3,
   "metadata": {
    "collapsed": true
   },
   "outputs": [],
   "source": [
    "def get_dataset(rootdir):\n",
    "    images = []\n",
    "    for subdir, dirs, files in os.walk(rootdir):\n",
    "        for file in files:\n",
    "            if '.DS_Store' not in file:\n",
    "                images.append(os.path.join(subdir, file))\n",
    "                \n",
    "    return list(map(lambda img: cv2.cvtColor(cv2.imread(img), cv2.COLOR_BGR2RGB), images))"
   ]
  },
  {
   "cell_type": "code",
   "execution_count": null,
   "metadata": {},
   "outputs": [
    {
     "name": "stdout",
     "output_type": "stream",
     "text": [
      "8792\n"
     ]
    }
   ],
   "source": [
    "rootdir = './dataset/vehicles'\n",
    "vehicles = get_dataset(rootdir)\n",
    "print(len(vehicles))"
   ]
  },
  {
   "cell_type": "code",
   "execution_count": null,
   "metadata": {},
   "outputs": [],
   "source": [
    "rootdir = './dataset/non-vehicles'\n",
    "non_vehicles = get_dataset(rootdir)\n",
    "print(len(non_vehicles))"
   ]
  },
  {
   "cell_type": "code",
   "execution_count": null,
   "metadata": {},
   "outputs": [],
   "source": [
    "image1 = random.choice(vehicles)\n",
    "image2 = random.choice(non_vehicles)\n",
    "show_images(image1, \"Vehicle\", image2, \"Non-vehicle\")\n",
    "print(len(non_vehicles))"
   ]
  },
  {
   "cell_type": "markdown",
   "metadata": {},
   "source": [
    "### Extract features from a list of images"
   ]
  },
  {
   "cell_type": "code",
   "execution_count": null,
   "metadata": {
    "collapsed": true
   },
   "outputs": [],
   "source": [
    "class Parameters():\n",
    "    color_space='RGB'\n",
    "    spatial_size=(32, 32)\n",
    "    hist_bins=8\n",
    "    orient=9\n",
    "    pix_per_cell=8\n",
    "    cell_per_block=2\n",
    "    hog_channel=0\n",
    "    hist_range = (0, 256)\n",
    "    spatial_feat=True\n",
    "    hist_feat=True\n",
    "    hog_feat=True\n",
    "    def __init__(self, color_space='RGB', spatial_size=(32, 32),\n",
    "                 hist_bins=8, orient=9, \n",
    "                 pix_per_cell=8, cell_per_block=2, hog_channel=0, scale = 1.5,hist_range = (0, 256),\n",
    "                 spatial_feat=True, hist_feat=True, hog_feat=True):\n",
    "        # HOG parameters\n",
    "        self.color_space = color_space\n",
    "        self.spatial_size = spatial_size\n",
    "        self.hist_bins = hist_bins\n",
    "        self.orient = orient\n",
    "        self.pix_per_cell = pix_per_cell\n",
    "        self.cell_per_block = cell_per_block\n",
    "        self.hog_channel = hog_channel\n",
    "        self.scale = scale\n",
    "        self.spatial_feat = spatial_feat\n",
    "        self.hist_feat = hist_feat\n",
    "        self.hog_feat = hog_feat\n",
    "        self.hist_range = hist_range\n",
    "    \n",
    "        \n",
    "    "
   ]
  },
  {
   "cell_type": "code",
   "execution_count": null,
   "metadata": {
    "collapsed": true
   },
   "outputs": [],
   "source": [
    "def extract_features(img, params):\n",
    "        file_features = []\n",
    "        # Read in each one by one\n",
    "        # apply color conversion if other than 'RGB'\n",
    "        feature_image = convert_image(img, params.color_space)    \n",
    "\n",
    "        if params.spatial_feat == True:\n",
    "            spatial_features = bin_spatial(feature_image, size=params.spatial_size)\n",
    "            file_features.append(spatial_features)\n",
    "        if params.hist_feat == True:\n",
    "            # Apply color_hist()\n",
    "            hist_features = color_hist(feature_image, nbins=params.hist_bins)\n",
    "            file_features.append(hist_features)\n",
    "        if params.hog_feat == True:\n",
    "        # Call get_hog_features() with vis=False, feature_vec=True\n",
    "            if params.hog_channel == 'ALL':\n",
    "                hog_features = []\n",
    "                for channel in range(feature_image.shape[2]):\n",
    "                    hog_features.append(get_hog_features(feature_image[:,:,channel], \n",
    "                                        params.orient, params.pix_per_cell, params.cell_per_block, \n",
    "                                        vis=False, feature_vec=True))\n",
    "                hog_features = np.ravel(hog_features)        \n",
    "            else:\n",
    "                hog_features = get_hog_features(feature_image[:,:,params.hog_channel], params.orient, \n",
    "                            params.pix_per_cell, params.cell_per_block, vis=False, feature_vec=True)\n",
    "            # Append the new feature vector to the features list\n",
    "            file_features.append(hog_features)\n",
    "            \n",
    "        # Return list of feature vectors\n",
    "        return np.concatenate(file_features)"
   ]
  },
  {
   "cell_type": "code",
   "execution_count": null,
   "metadata": {
    "collapsed": true
   },
   "outputs": [],
   "source": [
    "params = Parameters(\n",
    "            color_space = 'YCrCb',\n",
    "            spatial_size = (16, 16),\n",
    "            orient = 8,\n",
    "            pix_per_cell = 8,\n",
    "            cell_per_block = 2,\n",
    "            hog_channel = 'ALL',\n",
    "            hist_bins = 32,\n",
    "            scale = 1.5,\n",
    "            spatial_feat=True, \n",
    "            hist_feat=True, \n",
    "            hog_feat=True\n",
    "        )"
   ]
  },
  {
   "cell_type": "code",
   "execution_count": null,
   "metadata": {},
   "outputs": [],
   "source": [
    "vehicle = image1\n",
    "non_vehicle = image2\n",
    "\n",
    "car_spatial_features = extract_features(vehicle, params)\n",
    "notcar_spatial_features = extract_features(non_vehicle, params)\n",
    "plt.figure()\n",
    "plt.subplot(121)\n",
    "plt.plot((car_spatial_features))\n",
    "plt.xlabel(\"Car Spatial Features\",fontsize=15)\n",
    "\n",
    "plt.subplot(122)\n",
    "plt.plot(notcar_spatial_features)\n",
    "plt.xlabel(\"Non-Car Spatial Features\",fontsize=15)\n",
    "\n"
   ]
  },
  {
   "cell_type": "markdown",
   "metadata": {},
   "source": [
    "### Show Hog features"
   ]
  },
  {
   "cell_type": "code",
   "execution_count": null,
   "metadata": {
    "collapsed": true
   },
   "outputs": [],
   "source": [
    "def show_hog(vehicle, non_vehicle, params):\n",
    "    _,vehicle_hog = get_hog_features(vehicle[:,:,0],params.orient, params.pix_per_cell, params.cell_per_block, vis=True, feature_vec=True)\n",
    "    _,non_vehicle_hog = get_hog_features(non_vehicle[:,:,0],params.orient, params.pix_per_cell, params.cell_per_block, vis=True, feature_vec=True)\n",
    "    f, (ax1, ax2, ax3, ax4) = plt.subplots(1, 4, figsize=(20,10))\n",
    "    ax1.set_title('Vehicle')\n",
    "    ax1.imshow(vehicle, cmap='gray')\n",
    "    ax2.set_title('Vehicle hog')\n",
    "    ax2.imshow(vehicle_hog, cmap='gray')\n",
    "    ax3.set_title('Non-vehicle')\n",
    "    ax3.imshow(non_vehicle, cmap='gray')\n",
    "    ax4.set_title('Non-vehicle hog')\n",
    "    ax4.imshow(non_vehicle_hog, cmap='gray')"
   ]
  },
  {
   "cell_type": "code",
   "execution_count": null,
   "metadata": {},
   "outputs": [],
   "source": [
    "show_hog(vehicle, non_vehicle, params)"
   ]
  },
  {
   "cell_type": "markdown",
   "metadata": {},
   "source": [
    "### SVM"
   ]
  },
  {
   "cell_type": "code",
   "execution_count": null,
   "metadata": {},
   "outputs": [],
   "source": [
    "sample_size = 8750\n",
    "cars = vehicles[0:sample_size]\n",
    "notcars = non_vehicles[0:sample_size]\n",
    "\n",
    "car_features = list(map(lambda img: extract_features(img, params), cars))\n",
    "notcar_features = list(map(lambda img: extract_features(img, params), notcars))\n",
    "\n",
    "\n",
    "X = np.vstack((car_features, notcar_features)).astype(np.float64)                        \n",
    "# Fit a per-column scaler\n",
    "X_scaler = StandardScaler().fit(X)\n",
    "# Apply the scaler to X\n",
    "scaled_X = X_scaler.transform(X)\n",
    "\n",
    "# Define the labels vector\n",
    "y = np.hstack((np.ones(len(car_features)), np.zeros(len(notcar_features))))\n",
    "\n",
    "\n",
    "# Split up data into randomized training and test sets\n",
    "rand_state = np.random.randint(0, 100)\n",
    "X_train, X_test, y_train, y_test = train_test_split(\n",
    "    scaled_X, y, test_size=0.2, random_state=rand_state)\n",
    "\n",
    "print('Using:',params.orient,'orientations',params.pix_per_cell,\n",
    "    'pixels per cell and', params.cell_per_block,'cells per block')\n",
    "print('Feature vector length:', len(X_train[0]))\n",
    "# Use a linear SVC \n",
    "svc = LinearSVC()\n",
    "# Check the training time for the SVC\n",
    "t=time.time()\n",
    "svc.fit(X_train, y_train)\n",
    "t2 = time.time()\n",
    "print(round(t2-t, 2), 'Seconds to train SVC...')\n",
    "# Check the score of the SVC\n",
    "print('Test Accuracy of SVC = ', round(svc.score(X_test, y_test), 4))"
   ]
  },
  {
   "cell_type": "markdown",
   "metadata": {},
   "source": [
    "### Finding the cars"
   ]
  },
  {
   "cell_type": "code",
   "execution_count": null,
   "metadata": {},
   "outputs": [],
   "source": [
    "def findCars(img, svc, scaler, params, y_start_stop=[400, 700], xy_window=(64, 64), xy_overlap=(0.85, 0.85) ):\n",
    "    \"\"\"\n",
    "    Returns the windows where the cars are found on the image `img`.\n",
    "    The feature extraction used parameters `params`.\n",
    "    `y_start_stop` : Contains the Y axis range to find the cars.\n",
    "    `xy_window` : Contains the windows size.\n",
    "    `xy_overlap` : Contains the windows overlap percent.\n",
    "    Returns a new image with the cars boxes.\n",
    "    \"\"\"\n",
    "    windows_list = []\n",
    "    windows = slide_window(img, y_start_stop=y_start_stop, xy_window=xy_window, xy_overlap=xy_overlap)\n",
    "    for window in windows:\n",
    "        img_window = cv2.resize(img[window[0][1]:window[1][1], window[0][0]:window[1][0]], (64, 64))\n",
    "        features = extract_features(img_window, params)\n",
    "        scaled_features = scaler.transform(features.reshape(1, -1))\n",
    "        pred = svc.predict(scaled_features)\n",
    "        if pred == 1:\n",
    "            windows_list.append(window)\n",
    "    return windows_list\n",
    "\n",
    "\n",
    "#Run test images\n",
    "test_images = ['./test_images/test1.jpg','./test_images/test2.jpg','./test_images/test3.jpg','./test_images/test4.jpg','./test_images/test5.jpg','./test_images/test6.jpg']\n",
    "draw_images = []\n",
    "for test_image in test_images:\n",
    "    img = cv2.cvtColor(cv2.imread(test_image), cv2.COLOR_BGR2RGB)\n",
    "    windows_list = findCars(img, svc, X_scaler, params)\n",
    "    out_img = draw_boxes(img, windows_list)\n",
    "    draw_images.append(out_img)\n",
    "    \n",
    "f, (ax1, ax2, ax3) = plt.subplots(1, 3, figsize=(20,10))\n",
    "ax1.set_title('test1')\n",
    "ax1.imshow(draw_images[0])\n",
    "ax2.set_title('test2')\n",
    "ax2.imshow(draw_images[1])\n",
    "ax3.set_title('test3')\n",
    "ax3.imshow(draw_images[2])\n",
    "f, (ax4, ax5, ax6) = plt.subplots(1, 3, figsize=(20,10))\n",
    "ax4.set_title('test4')\n",
    "ax4.imshow(draw_images[3])\n",
    "ax5.set_title('test5')\n",
    "ax5.imshow(draw_images[4])\n",
    "ax6.set_title('test6')\n",
    "ax6.imshow(draw_images[5])\n"
   ]
  },
  {
   "cell_type": "markdown",
   "metadata": {},
   "source": [
    "### Multiple detections and False positives"
   ]
  },
  {
   "cell_type": "code",
   "execution_count": null,
   "metadata": {
    "collapsed": true
   },
   "outputs": [],
   "source": [
    "def add_heat(heatmap, bbox_list):\n",
    "    # Iterate through list of bboxes\n",
    "    for box in bbox_list:\n",
    "        # Add += 1 for all pixels inside each bbox\n",
    "        # Assuming each \"box\" takes the form ((x1, y1), (x2, y2))\n",
    "        heatmap[box[0][1]:box[1][1], box[0][0]:box[1][0]] += 1\n",
    "\n",
    "    # Return updated heatmap\n",
    "    return heatmap# Iterate through list of bboxes\n",
    "    \n",
    "def apply_threshold(heatmap, threshold):\n",
    "    # Zero out pixels below the threshold\n",
    "    heatmap[heatmap <= threshold] = 0\n",
    "    # Return thresholded map\n",
    "    return heatmap\n",
    "\n",
    "def draw_labeled_bboxes(img, labels):\n",
    "    # Iterate through all detected cars\n",
    "    for car_number in range(1, labels[1]+1):\n",
    "        # Find pixels with each car_number label value\n",
    "        nonzero = (labels[0] == car_number).nonzero()\n",
    "        # Identify x and y values of those pixels\n",
    "        nonzeroy = np.array(nonzero[0])\n",
    "        nonzerox = np.array(nonzero[1])\n",
    "        # Define a bounding box based on min/max x and y\n",
    "        bbox = ((np.min(nonzerox), np.min(nonzeroy)), (np.max(nonzerox), np.max(nonzeroy)))\n",
    "        # Draw the box on the image\n",
    "        cv2.rectangle(img, bbox[0], bbox[1], (0,0,255), 6)\n",
    "    # Return the image\n",
    "    return img"
   ]
  },
  {
   "cell_type": "code",
   "execution_count": null,
   "metadata": {
    "collapsed": true
   },
   "outputs": [],
   "source": [
    "from scipy.ndimage.measurements import label\n",
    "\n",
    "def heat_threshold(img, threshold, svc, X_scaler, windows_list, params):\n",
    "\n",
    "    heat = np.zeros_like(img[:,:,0]).astype(np.float)\n",
    "    # Add heat to each box in box list\n",
    "    heat = add_heat(heat,windows_list)\n",
    "\n",
    "    # Apply threshold to help remove false positives\n",
    "    heat = apply_threshold(heat,threshold)\n",
    "\n",
    "    # Visualize the heatmap when displaying    \n",
    "    heatmap = np.clip(heat, 0, 255)\n",
    "\n",
    "    # Find final boxes from heatmap using label function\n",
    "    labels = label(heatmap)\n",
    "    draw_img = draw_labeled_bboxes(np.copy(img), labels)\n",
    "    \n",
    "    return draw_img, heatmap"
   ]
  },
  {
   "cell_type": "code",
   "execution_count": null,
   "metadata": {},
   "outputs": [],
   "source": [
    "threshold = 4\n",
    "img = cv2.cvtColor(cv2.imread(test_images[0]), cv2.COLOR_BGR2RGB)\n",
    "windows_list = findCars(img, svc, X_scaler, params)\n",
    "draw_img, heatmap = heat_threshold(img, threshold, svc, X_scaler, windows_list, params)\n",
    "\n",
    "f, (ax1, ax2) = plt.subplots(1, 2, figsize=(24, 9))\n",
    "f.tight_layout()\n",
    "ax1.imshow(draw_img)\n",
    "ax1.set_title('Car Positions', fontsize=50)\n",
    "ax2.imshow(heatmap, cmap='hot')\n",
    "ax2.set_title('Heat Map', fontsize=50)\n",
    "plt.subplots_adjust(left=0., right=1, top=0.9, bottom=0.)\n",
    "\n",
    "img = cv2.cvtColor(cv2.imread(test_images[2]), cv2.COLOR_BGR2RGB)\n",
    "windows_list = findCars(img, svc, X_scaler, params)\n",
    "draw_img, heatmap = heat_threshold(img, threshold, svc, X_scaler, windows_list, params)\n",
    "f, (ax1, ax2) = plt.subplots(1, 2, figsize=(24, 9))\n",
    "f.tight_layout()\n",
    "ax1.imshow(draw_img)\n",
    "ax1.set_title('Car Positions', fontsize=50)\n",
    "ax2.imshow(heatmap, cmap='hot')\n",
    "ax2.set_title('Heat Map', fontsize=50)\n",
    "plt.subplots_adjust(left=0., right=1, top=0.9, bottom=0.)\n",
    "\n",
    "img = cv2.cvtColor(cv2.imread(test_images[3]), cv2.COLOR_BGR2RGB)\n",
    "windows_list = findCars(img, svc, X_scaler, params)\n",
    "draw_img, heatmap = heat_threshold(img, threshold, svc, X_scaler, windows_list, params)\n",
    "f, (ax1, ax2) = plt.subplots(1, 2, figsize=(24, 9))\n",
    "f.tight_layout()\n",
    "ax1.imshow(draw_img)\n",
    "ax1.set_title('Car Positions', fontsize=50)\n",
    "ax2.imshow(heatmap, cmap='hot')\n",
    "ax2.set_title('Heat Map', fontsize=50)\n",
    "plt.subplots_adjust(left=0., right=1, top=0.9, bottom=0.)\n",
    "\n",
    "img = cv2.cvtColor(cv2.imread(test_images[4]), cv2.COLOR_BGR2RGB)\n",
    "windows_list = findCars(img, svc, X_scaler, params)\n",
    "draw_img, heatmap = heat_threshold(img, threshold, svc, X_scaler, windows_list, params)\n",
    "f, (ax1, ax2) = plt.subplots(1, 2, figsize=(24, 9))\n",
    "f.tight_layout()\n",
    "ax1.imshow(draw_img)\n",
    "ax1.set_title('Car Positions', fontsize=50)\n",
    "ax2.imshow(heatmap, cmap='hot')\n",
    "ax2.set_title('Heat Map', fontsize=50)\n",
    "plt.subplots_adjust(left=0., right=1, top=0.9, bottom=0.)"
   ]
  },
  {
   "cell_type": "markdown",
   "metadata": {},
   "source": [
    "### Hog Sub-sampling Window Search"
   ]
  },
  {
   "cell_type": "code",
   "execution_count": null,
   "metadata": {
    "collapsed": true
   },
   "outputs": [],
   "source": [
    "def find_cars_hog_sub(img, ystart, ystop, svc, scaler, params, cells_per_step = 1):\n",
    "    draw_img = np.copy(img)\n",
    "    cspace = params.color_space\n",
    "    \n",
    "    img_tosearch = img[ystart:ystop,:,:]\n",
    "\n",
    "    if cspace != 'RGB':\n",
    "        if cspace == 'HSV':\n",
    "            ctrans_tosearch = cv2.cvtColor(img_tosearch, cv2.COLOR_RGB2HSV)\n",
    "        elif cspace == 'LUV':\n",
    "            ctrans_tosearch = cv2.cvtColor(img_tosearch, cv2.COLOR_RGB2LUV)\n",
    "        elif cspace == 'HLS':\n",
    "            ctrans_tosearch = cv2.cvtColor(img_tosearch, cv2.COLOR_RGB2HLS)\n",
    "        elif cspace == 'YUV':\n",
    "            ctrans_tosearch = cv2.cvtColor(img_tosearch, cv2.COLOR_RGB2YUV)\n",
    "        elif cspace == 'YCrCb':\n",
    "            ctrans_tosearch = cv2.cvtColor(img_tosearch, cv2.COLOR_RGB2YCrCb)\n",
    "    else: ctrans_tosearch = np.copy(img_tosearch)  \n",
    "    \n",
    "    if params.scale != 1:\n",
    "        imshape = ctrans_tosearch.shape\n",
    "        ctrans_tosearch = cv2.resize(ctrans_tosearch, (np.int(imshape[1]/params.scale), np.int(imshape[0]/params.scale)))\n",
    "        \n",
    "    ch1 = ctrans_tosearch[:,:,0]\n",
    "    ch2 = ctrans_tosearch[:,:,1]\n",
    "    ch3 = ctrans_tosearch[:,:,2]\n",
    "    # Define blocks and steps as above\n",
    "    nxblocks = (ch1.shape[1] // params.pix_per_cell) - params.cell_per_block + 1\n",
    "    nyblocks = (ch1.shape[0] // params.pix_per_cell) - params.cell_per_block + 1 \n",
    "    nfeat_per_block = params.orient*params.cell_per_block**2\n",
    "    \n",
    "    # 64 was the orginal sampling rate, with 8 cells and 8 pix per cell\n",
    "    window = 64\n",
    "    nblocks_per_window = (window // params.pix_per_cell) - params.cell_per_block + 1\n",
    "    nxsteps = (nxblocks - nblocks_per_window) // cells_per_step\n",
    "    nysteps = (nyblocks - nblocks_per_window) // cells_per_step\n",
    "    \n",
    "    # Compute individual channel HOG features for the entire image\n",
    "    hog1 = get_hog_features(ch1, params.orient, params.pix_per_cell, params.cell_per_block, feature_vec=False)\n",
    "    hog2 = get_hog_features(ch2, params.orient, params.pix_per_cell, params.cell_per_block, feature_vec=False)\n",
    "    hog3 = get_hog_features(ch3, params.orient, params.pix_per_cell, params.cell_per_block, feature_vec=False)\n",
    "    car_windows = []\n",
    "    for xb in range(nxsteps):\n",
    "        for yb in range(nysteps):\n",
    "            ypos = yb*cells_per_step\n",
    "            xpos = xb*cells_per_step\n",
    "            # Extract HOG for this patch\n",
    "            hog_feat1 = hog1[ypos:ypos+nblocks_per_window, xpos:xpos+nblocks_per_window].ravel() \n",
    "            hog_feat2 = hog2[ypos:ypos+nblocks_per_window, xpos:xpos+nblocks_per_window].ravel() \n",
    "            hog_feat3 = hog3[ypos:ypos+nblocks_per_window, xpos:xpos+nblocks_per_window].ravel() \n",
    "            hog_features = np.hstack((hog_feat1, hog_feat2, hog_feat3))\n",
    "            xleft = xpos*params.pix_per_cell\n",
    "            ytop = ypos*params.pix_per_cell\n",
    "            # Extract the image patch\n",
    "            subimg = cv2.resize(ctrans_tosearch[ytop:ytop+window, xleft:xleft+window], (64,64))\n",
    "          \n",
    "            # Get color features\n",
    "            spatial_features = bin_spatial(subimg, size=params.spatial_size)\n",
    "            hist_features = color_hist(subimg, nbins=params.hist_bins, bins_range=params.hist_range)\n",
    "            # Scale features and make a prediction\n",
    "            test_features = X_scaler.transform(np.hstack((spatial_features, hist_features, hog_features)).reshape(1, -1))    \n",
    "            test_prediction = svc.predict(test_features)\n",
    "            \n",
    "            if test_prediction == 1:\n",
    "                xbox_left = np.int(xleft*params.scale )\n",
    "                ytop_draw = np.int(ytop*params.scale )\n",
    "                win_draw = np.int(window*params.scale )\n",
    "                cv2.rectangle(draw_img,(xbox_left, ytop_draw+ystart),(xbox_left+win_draw,ytop_draw+win_draw+ystart),(0,0,255),6) \n",
    "                car_windows.append(((xbox_left, ytop_draw+ystart),(xbox_left+win_draw,ytop_draw+win_draw+ystart)))\n",
    "                \n",
    "    return car_windows"
   ]
  },
  {
   "cell_type": "code",
   "execution_count": null,
   "metadata": {
    "scrolled": false
   },
   "outputs": [],
   "source": [
    "ystart = 350\n",
    "ystop = 656\n",
    "\n",
    "threshold = 1\n",
    "img = cv2.cvtColor(cv2.imread(test_images[0]), cv2.COLOR_BGR2RGB)    \n",
    "car_windows = find_cars_hog_sub(img, ystart, ystop, svc, X_scaler, params)\n",
    "draw_img, heat_map = heat_threshold(img, threshold, svc, X_scaler, car_windows, params)\n",
    "f, (ax1, ax2) = plt.subplots(1, 2, figsize=(24, 9))\n",
    "f.tight_layout()\n",
    "ax1.imshow(draw_img)\n",
    "ax1.set_title('Car Positions', fontsize=50)\n",
    "ax2.imshow(heatmap, cmap='hot')\n",
    "ax2.set_title('Heat Map', fontsize=50)\n",
    "plt.subplots_adjust(left=0., right=1, top=0.9, bottom=0.)\n",
    "\n",
    "img = cv2.cvtColor(cv2.imread(test_images[1]), cv2.COLOR_BGR2RGB)    \n",
    "car_windows = find_cars_hog_sub(img, ystart, ystop, svc, X_scaler, params)\n",
    "draw_img, heat_map = heat_threshold(img, threshold, svc, X_scaler, car_windows, params)\n",
    "f, (ax1, ax2) = plt.subplots(1, 2, figsize=(24, 9))\n",
    "f.tight_layout()\n",
    "ax1.imshow(draw_img)\n",
    "ax1.set_title('Car Positions', fontsize=50)\n",
    "ax2.imshow(heatmap, cmap='hot')\n",
    "ax2.set_title('Heat Map', fontsize=50)\n",
    "plt.subplots_adjust(left=0., right=1, top=0.9, bottom=0.)\n",
    "\n",
    "img = cv2.cvtColor(cv2.imread(test_images[2]), cv2.COLOR_BGR2RGB)    \n",
    "car_windows = find_cars_hog_sub(img, ystart, ystop, svc, X_scaler, params)\n",
    "draw_img, heat_map = heat_threshold(img, threshold, svc, X_scaler, car_windows, params)\n",
    "f, (ax1, ax2) = plt.subplots(1, 2, figsize=(24, 9))\n",
    "f.tight_layout()\n",
    "ax1.imshow(draw_img)\n",
    "ax1.set_title('Car Positions', fontsize=50)\n",
    "ax2.imshow(heatmap, cmap='hot')\n",
    "ax2.set_title('Heat Map', fontsize=50)\n",
    "plt.subplots_adjust(left=0., right=1, top=0.9, bottom=0.)\n",
    "\n",
    "img = cv2.cvtColor(cv2.imread(test_images[3]), cv2.COLOR_BGR2RGB)    \n",
    "car_windows = find_cars_hog_sub(img, ystart, ystop, svc, X_scaler, params)\n",
    "draw_img, heat_map = heat_threshold(img, threshold, svc, X_scaler, car_windows, params)\n",
    "f, (ax1, ax2) = plt.subplots(1, 2, figsize=(24, 9))\n",
    "f.tight_layout()\n",
    "ax1.imshow(draw_img)\n",
    "ax1.set_title('Car Positions', fontsize=50)\n",
    "ax2.imshow(heatmap, cmap='hot')\n",
    "ax2.set_title('Heat Map', fontsize=50)\n",
    "plt.subplots_adjust(left=0., right=1, top=0.9, bottom=0.)\n",
    "\n",
    "img = cv2.cvtColor(cv2.imread(test_images[4]), cv2.COLOR_BGR2RGB)    \n",
    "car_windows = find_cars_hog_sub(img, ystart, ystop, svc, X_scaler, params)\n",
    "draw_img, heat_map = heat_threshold(img, threshold, svc, X_scaler, car_windows, params)\n",
    "f, (ax1, ax2) = plt.subplots(1, 2, figsize=(24, 9))\n",
    "f.tight_layout()\n",
    "ax1.imshow(draw_img)\n",
    "ax1.set_title('Car Positions', fontsize=50)\n",
    "ax2.imshow(heatmap, cmap='hot')\n",
    "ax2.set_title('Heat Map', fontsize=50)\n",
    "plt.subplots_adjust(left=0., right=1, top=0.9, bottom=0.)\n",
    "\n",
    "img = cv2.cvtColor(cv2.imread(test_images[5]), cv2.COLOR_BGR2RGB)    \n",
    "car_windows = find_cars_hog_sub(img, ystart, ystop, svc, X_scaler, params)\n",
    "draw_img, heat_map = heat_threshold(img, threshold, svc, X_scaler, car_windows, params)\n",
    "f, (ax1, ax2) = plt.subplots(1, 2, figsize=(24, 9))\n",
    "f.tight_layout()\n",
    "ax1.imshow(draw_img)\n",
    "ax1.set_title('Car Positions', fontsize=50)\n",
    "ax2.imshow(heatmap, cmap='hot')\n",
    "ax2.set_title('Heat Map', fontsize=50)\n",
    "plt.subplots_adjust(left=0., right=1, top=0.9, bottom=0.)\n",
    "\n"
   ]
  },
  {
   "cell_type": "code",
   "execution_count": null,
   "metadata": {
    "collapsed": true
   },
   "outputs": [],
   "source": [
    "def pipeline(img):\n",
    "    ystart = 350\n",
    "    ystop = 656\n",
    "    threshold = 1 \n",
    "    car_windows = find_cars_hog_sub(img, ystart, ystop, svc, X_scaler, params)\n",
    "    draw_img, heat_map = heat_threshold(img, threshold, svc, X_scaler, car_windows, params)\n",
    "    \n",
    "    return draw_img"
   ]
  },
  {
   "cell_type": "code",
   "execution_count": null,
   "metadata": {
    "collapsed": true
   },
   "outputs": [],
   "source": [
    "# Import everything needed to edit/save/watch video clips\n",
    "from moviepy.editor import VideoFileClip\n",
    "from IPython.display import HTML"
   ]
  },
  {
   "cell_type": "code",
   "execution_count": null,
   "metadata": {},
   "outputs": [],
   "source": [
    "\n",
    "def process_image(img):\n",
    "    return pipeline(img)\n",
    "\n",
    "white_output = 'output_video/project_video.mp4'\n",
    "clip1 = VideoFileClip(\"project_video.mp4\")\n",
    "white_clip = clip1.fl_image(process_image)\n",
    "%time white_clip.write_videofile(white_output, audio=False)"
   ]
  },
  {
   "cell_type": "code",
   "execution_count": null,
   "metadata": {},
   "outputs": [],
   "source": [
    "\n",
    "HTML(\"\"\"\n",
    "<video width=\"960\" height=\"540\" controls>\n",
    "  <source src=\"{0}\">\n",
    "</video>\n",
    "\"\"\".format(white_output))"
   ]
  },
  {
   "cell_type": "markdown",
   "metadata": {},
   "source": [
    "## Optional challenge"
   ]
  },
  {
   "cell_type": "code",
   "execution_count": null,
   "metadata": {
    "collapsed": true
   },
   "outputs": [],
   "source": [
    "from advanced_lane_helper_functions import *"
   ]
  },
  {
   "cell_type": "code",
   "execution_count": null,
   "metadata": {
    "collapsed": true
   },
   "outputs": [],
   "source": [
    "nx = 9\n",
    "ny = 6\n",
    "objpoints = []\n",
    "imgpoints = []\n",
    "objp = np.zeros((9*6,3), np.float32)\n",
    "objp[:,:2] = np.mgrid[0:9,0:6].T.reshape(-1,2)\n",
    "\n",
    "#Finding in mtx, dst\n",
    "img = cv2.imread('camera_cal/calibration2.jpg')\n",
    "\n",
    "# Convert to grayscale\n",
    "gray = cv2.cvtColor(img, cv2.COLOR_BGR2GRAY)\n",
    "\n",
    "# Find the chessboard corners\n",
    "ret, corners = cv2.findChessboardCorners(gray, (nx, ny), None)\n",
    "\n",
    "# If found, draw corners\n",
    "if ret == True:\n",
    "    imgpoints.append(corners)\n",
    "    objpoints.append(objp)\n",
    "\n",
    "    # Draw and display the corners\n",
    "    cv2.drawChessboardCorners(img, (nx, ny), corners, ret)\n",
    "\n",
    "ret, mtx, dist, rvecs, tvecs = cv2.calibrateCamera(objpoints, imgpoints, gray.shape[::-1], None, None)"
   ]
  },
  {
   "cell_type": "code",
   "execution_count": null,
   "metadata": {
    "collapsed": true
   },
   "outputs": [],
   "source": [
    "# Define a class to receive the characteristics of each line detection\n",
    "class Lane():\n",
    "    def __init__(self):\n",
    "        self.last_left = None\n",
    "        self.last_right = None\n",
    "        self.left_fit = None\n",
    "        self.right_fit = None\n",
    "        self.counter = 0\n",
    "        self.reset_counter = 0"
   ]
  },
  {
   "cell_type": "code",
   "execution_count": null,
   "metadata": {
    "collapsed": true
   },
   "outputs": [],
   "source": [
    "def pipeline_advanced(img, lane, show_values=False):\n",
    "    warped_img, left_fit, right_fit, M = find_lanes(img, mtx, dist, lane)\n",
    "    left_curvature, right_curvature, center = radius_curvature(warped_img, left_fit, right_fit)\n",
    "    \n",
    "    return draw_on_image(img, warped_img, left_fit, right_fit, M, left_curvature, right_curvature, center, show_values)"
   ]
  },
  {
   "cell_type": "code",
   "execution_count": null,
   "metadata": {},
   "outputs": [],
   "source": [
    "lane = Lane()\n",
    "def process_image_advanced(img):\n",
    "    return pipeline_advanced(img, lane)\n",
    "\n",
    "white_output_advanced = 'output_video/project_video_advanced.mp4'\n",
    "clip1 = VideoFileClip(\"output_video/project_video.mp4\")\n",
    "white_clip = clip1.fl_image(process_image_advanced)\n",
    "%time white_clip.write_videofile(white_output_advanced, audio=False)"
   ]
  },
  {
   "cell_type": "code",
   "execution_count": null,
   "metadata": {},
   "outputs": [],
   "source": [
    "HTML(\"\"\"\n",
    "<video width=\"960\" height=\"540\" controls>\n",
    "  <source src=\"{0}\">\n",
    "</video>\n",
    "\"\"\".format(white_output_advanced))"
   ]
  },
  {
   "cell_type": "code",
   "execution_count": null,
   "metadata": {
    "collapsed": true
   },
   "outputs": [],
   "source": []
  }
 ],
 "metadata": {
  "kernelspec": {
   "display_name": "Python 3",
   "language": "python",
   "name": "python3"
  },
  "language_info": {
   "codemirror_mode": {
    "name": "ipython",
    "version": 3
   },
   "file_extension": ".py",
   "mimetype": "text/x-python",
   "name": "python",
   "nbconvert_exporter": "python",
   "pygments_lexer": "ipython3",
   "version": "3.6.2"
  },
  "widgets": {
   "state": {},
   "version": "1.1.2"
  }
 },
 "nbformat": 4,
 "nbformat_minor": 2
}
